{
 "cells": [
  {
   "cell_type": "code",
   "execution_count": 2,
   "metadata": {
    "id": "GqFpSTiyyv9Z"
   },
   "outputs": [],
   "source": [
    "import random\n",
    "import matplotlib.pyplot as plt\n",
    "import numpy as np\n",
    "from scipy.stats import bernoulli\n",
    "from scipy import stats\n",
    "from scipy.stats import binom\n",
    "from scipy.stats import uniform"
   ]
  },
  {
   "cell_type": "markdown",
   "metadata": {
    "id": "rnvDigLb0meD"
   },
   "source": [
    "Graficar la función de densidad de una distribuci ́on uniforme.\n",
    "\n",
    "---\n",
    "Graficar la función de densidad de una distribuci ́on Bernoulli.\n",
    "\n",
    "---\n",
    "Graficar la función de densidad de una distribuci ́on Poisson.\n",
    "\n",
    "---\n",
    "Graficar la función de densidad de una distribuci ́on Exponencial.\n",
    "\n",
    "---\n"
   ]
  },
  {
   "cell_type": "markdown",
   "metadata": {
    "id": "Xcy4Tb2mhOIt"
   },
   "source": [
    "*Graficar la función de densidad de una distribuci ́on uniforme.*"
   ]
  },
  {
   "cell_type": "code",
   "execution_count": 3,
   "metadata": {
    "id": "edpgmGXRDYFh"
   },
   "outputs": [],
   "source": [
    "def uniforme(a, b):\n",
    "  a, b = -11, 20\n",
    "  size = 1000\n",
    "  fig, ax = plt.subplots(1, 1)\n",
    "  # Genrando distribución uniforme\n",
    "  uniform_distribution = uniform(loc=a, scale=b-a)\n",
    "  x = np.linspace(uniform_distribution.pdf(0), uniform_distribution.pdf(1), size)\n",
    "  # Ploteando pdf\n",
    "  pdf = uniform_distribution.pdf(x)\n",
    "  ax.plot(x, pdf, 'r-', lw=5, alpha=0.6, label='pdf')\n",
    "  # Histograma\n",
    "  ax.hist(uniform_distribution.rvs(size=size), density=True, histtype='stepfilled', alpha=0.2)\n",
    "  fig.show()\n",
    "  plt.pause(0.0001)"
   ]
  },
  {
   "cell_type": "markdown",
   "metadata": {
    "id": "eG99Utu3XIQj"
   },
   "source": [
    "*Graficar la función de densidad de una distribuci ́on Bernoulli.*"
   ]
  },
  {
   "cell_type": "code",
   "execution_count": 4,
   "metadata": {
    "id": "hGDeRSSvXXdf"
   },
   "outputs": [],
   "source": [
    "#Creando una clase bernoulli\n",
    "class bernoulli():    \n",
    "    def rvs(p,size=1):\n",
    "        r_values = list(range(size + 1))\n",
    "        # list of pmf values\n",
    "        dist = [binom.pmf(r, size, p) for r in r_values ]\n",
    "        return dist"
   ]
  },
  {
   "cell_type": "code",
   "execution_count": 5,
   "metadata": {
    "id": "16kkUc06Xgno"
   },
   "outputs": [],
   "source": [
    "def pBernoulli(p):\n",
    "  # p es la probabilidad de tener un incidente\n",
    "  size = 10\n",
    "  lista = [*range(size + 1)]\n",
    "  plt.plot(lista, bernoulli.rvs(p,size) )\n",
    "  plt.pause(0.0001)"
   ]
  },
  {
   "cell_type": "markdown",
   "metadata": {
    "id": "ko4JU32WhUXO"
   },
   "source": [
    "*Graficar la función de densidad de una distribuci ́on Poisson.*"
   ]
  },
  {
   "cell_type": "code",
   "execution_count": 6,
   "metadata": {
    "id": "8e_4JdkOhTcg"
   },
   "outputs": [],
   "source": [
    "def poisson(mu):\n",
    "  # mu es el número de eventos \n",
    "  x = lista = [*range((mu*3))]\n",
    "  y = stats.poisson.pmf(x, mu)\n",
    "\n",
    "  plt.plot(x, y)\n",
    "  plt.title(\"distribución de Poisson con mu seleccionada\")\n",
    "  plt.xlabel(\"vector\")\n",
    "  plt.ylabel(\"Probabilidad\")\n",
    "  plt.show()\n",
    "  plt.pause(0.0001)"
   ]
  },
  {
   "cell_type": "markdown",
   "metadata": {
    "id": "wg7psIW1jrX4"
   },
   "source": [
    "*Graficar la función de densidad de una distribuci ́on Exponencial.*"
   ]
  },
  {
   "cell_type": "code",
   "execution_count": 7,
   "metadata": {
    "id": "L64InSh2lPMd"
   },
   "outputs": [],
   "source": [
    "def exponencial(M):\n",
    "  def generate():\n",
    "      proba = random.random()\n",
    "      max = 0\n",
    "      for i in range(1,M+1):\n",
    "          max += (1/2)**i\n",
    "          if(proba<= max):\n",
    "                return i-1\n",
    "      return generate()\n",
    "  # M es la tasa de ocurrencia de eventos\n",
    "  res = [0 for i in range(M+1)]\n",
    "  for i in range(1000):\n",
    "      res[generate()]+=1\n",
    "  plt.plot([r/1000 for r in res])\n",
    "  plt.pause(0.0001)"
   ]
  },
  {
   "cell_type": "code",
   "execution_count": 8,
   "metadata": {
    "id": "gFwK_JcK40Wb"
   },
   "outputs": [],
   "source": [
    "def main():\n",
    "    opciones = \"\"\"  Opcion (1): Graficar la función de densidad de una distribuci ́on uniforme.\n",
    "  Opcion (2): Graficar la función de densidad de una distribuci ́on Bernoulli.\n",
    "  Opcion (3): Graficar la función de densidad de una distribuci ́on Poisson.\n",
    "  Opcion (4): Graficar la función de densidad de una distribuci ́on Exponencial.\n",
    "  Opcion (5): Volver a mostrar el menú.\n",
    "  Opcion (6): Salir.\"\"\"\n",
    "    \n",
    "    print(opciones)\n",
    "    \n",
    "    while(True):\n",
    "\n",
    "        option = input(\"Ingrese la opcion que deseas ejecutar: \")\n",
    "        if(option == \"1\"):\n",
    "            a = int(input(\"Ingrese el mínimo: \"))\n",
    "            b = int(input(\"Ingrese el máximo: \"))\n",
    "            if a < b:\n",
    "             uniforme(a, b)\n",
    "            else:\n",
    "              print(\"Valores inválidos, por favor intente nuevamente\")\n",
    "        elif (option == \"2\"):\n",
    "          p = float(input(\"Ingrese la probabilidad: \"))\n",
    "          if p>=0:\n",
    "            x = p/100\n",
    "            pBernoulli(x)\n",
    "          else:\n",
    "            print(\"probabilidad inválida, por favor intente nuevamente\")\n",
    "        elif (option == \"3\"):\n",
    "          mu = int(input(\"Ingrese el número de eventos: \"))\n",
    "          if mu>=0:\n",
    "            poisson(mu)\n",
    "          else:\n",
    "            print(\"número de eventos inválido, por favor intente nuevamente\")\n",
    "        elif (option == \"4\"):\n",
    "          M = int(input(\"Ingrese la tasa de ocurrencia de eventos: \"))\n",
    "          if M>=0:\n",
    "            exponencial(M)\n",
    "          else:\n",
    "            print(\"número inválido, por favor intente nuevamente\")\n",
    "        elif (option == \"5\"):\n",
    "            print(opciones)\n",
    "        elif (option == '6'):\n",
    "            break\n",
    "        else:\n",
    "            print(\"Opcion invalida.\")"
   ]
  },
  {
   "cell_type": "code",
   "execution_count": 9,
   "metadata": {
    "id": "GoUxboZP_Sf4"
   },
   "outputs": [
    {
     "name": "stdout",
     "output_type": "stream",
     "text": [
      "  Opcion (1): Graficar la función de densidad de una distribuci ́on uniforme.\n",
      "  Opcion (2): Graficar la función de densidad de una distribuci ́on Bernoulli.\n",
      "  Opcion (3): Graficar la función de densidad de una distribuci ́on Poisson.\n",
      "  Opcion (4): Graficar la función de densidad de una distribuci ́on Exponencial.\n",
      "  Opcion (5): Volver a mostrar el menú.\n",
      "  Opcion (6): Salir.\n",
      "Ingrese la opcion que deseas ejecutar: 1\n",
      "Ingrese el mínimo: 1\n",
      "Ingrese el máximo: 6\n"
     ]
    },
    {
     "name": "stderr",
     "output_type": "stream",
     "text": [
      "C:\\Users\\MarioLap\\AppData\\Local\\Temp\\ipykernel_1492\\1424933332.py:13: UserWarning: Matplotlib is currently using module://matplotlib_inline.backend_inline, which is a non-GUI backend, so cannot show the figure.\n",
      "  fig.show()\n"
     ]
    },
    {
     "data": {
      "image/png": "[encoded data removed]",
      "text/plain": [
       "<Figure size 432x288 with 1 Axes>"
      ]
     },
     "metadata": {
      "needs_background": "light"
     },
     "output_type": "display_data"
    },
    {
     "name": "stdout",
     "output_type": "stream",
     "text": [
      "Ingrese la opcion que deseas ejecutar: 2\n",
      "Ingrese la probabilidad: 0.5\n"
     ]
    },
    {
     "data": {
      "image/png": "[encoded data removed]",
      "text/plain": [
       "<Figure size 432x288 with 1 Axes>"
      ]
     },
     "metadata": {
      "needs_background": "light"
     },
     "output_type": "display_data"
    },
    {
     "name": "stdout",
     "output_type": "stream",
     "text": [
      "Ingrese la opcion que deseas ejecutar: 3\n",
      "Ingrese el número de eventos: 20\n"
     ]
    },
    {
     "data": {
      "image/png": "[encoded data removed]",
      "text/plain": [
       "<Figure size 432x288 with 1 Axes>"
      ]
     },
     "metadata": {
      "needs_background": "light"
     },
     "output_type": "display_data"
    },
    {
     "name": "stdout",
     "output_type": "stream",
     "text": [
      "Ingrese la opcion que deseas ejecutar: 5\n",
      "  Opcion (1): Graficar la función de densidad de una distribuci ́on uniforme.\n",
      "  Opcion (2): Graficar la función de densidad de una distribuci ́on Bernoulli.\n",
      "  Opcion (3): Graficar la función de densidad de una distribuci ́on Poisson.\n",
      "  Opcion (4): Graficar la función de densidad de una distribuci ́on Exponencial.\n",
      "  Opcion (5): Volver a mostrar el menú.\n",
      "  Opcion (6): Salir.\n",
      "Ingrese la opcion que deseas ejecutar: 4\n",
      "Ingrese la tasa de ocurrencia de eventos: 45\n"
     ]
    },
    {
     "data": {
      "image/png": "[encoded data removed]",
      "text/plain": [
       "<Figure size 432x288 with 1 Axes>"
      ]
     },
     "metadata": {
      "needs_background": "light"
     },
     "output_type": "display_data"
    },
    {
     "name": "stdout",
     "output_type": "stream",
     "text": [
      "Ingrese la opcion que deseas ejecutar: 5\n",
      "  Opcion (1): Graficar la función de densidad de una distribuci ́on uniforme.\n",
      "  Opcion (2): Graficar la función de densidad de una distribuci ́on Bernoulli.\n",
      "  Opcion (3): Graficar la función de densidad de una distribuci ́on Poisson.\n",
      "  Opcion (4): Graficar la función de densidad de una distribuci ́on Exponencial.\n",
      "  Opcion (5): Volver a mostrar el menú.\n",
      "  Opcion (6): Salir.\n",
      "Ingrese la opcion que deseas ejecutar: 0\n",
      "Opcion invalida.\n",
      "Ingrese la opcion que deseas ejecutar: 6\n"
     ]
    }
   ],
   "source": [
    "main()"
   ]
  },
  {
   "cell_type": "code",
   "execution_count": null,
   "metadata": {},
   "outputs": [],
   "source": []
  }
 ],
 "metadata": {
  "colab": {
   "name": "taller3_programa3.ipynb",
   "provenance": []
  },
  "kernelspec": {
   "display_name": "Python 3 (ipykernel)",
   "language": "python",
   "name": "python3"
  },
  "language_info": {
   "codemirror_mode": {
    "name": "ipython",
    "version": 3
   },
   "file_extension": ".py",
   "mimetype": "text/x-python",
   "name": "python",
   "nbconvert_exporter": "python",
   "pygments_lexer": "ipython3",
   "version": "3.9.12"
  }
 },
 "nbformat": 4,
 "nbformat_minor": 1
}
